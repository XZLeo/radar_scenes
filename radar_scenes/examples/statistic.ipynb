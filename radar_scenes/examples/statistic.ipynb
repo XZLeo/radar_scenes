{
 "cells": [
  {
   "cell_type": "markdown",
   "metadata": {},
   "source": [
    "# how many empty scenes?\n",
    "# how many objects with only one or two points?"
   ]
  },
  {
   "cell_type": "code",
   "execution_count": 1,
   "metadata": {},
   "outputs": [],
   "source": [
    "from time import time\n",
    "from typing import Sequence\n",
    "import matplotlib.pyplot as plt\n",
    "import numpy as np    \n",
    "from radar_scenes.coordinate_transformation import *\n",
    "from radar_scenes.sequence import Sequence\n",
    "import os\n",
    "\n",
    "\n",
    "def get_timestamps(sequence: Sequence):\n",
    "    '''\n",
    "    Create the list of all timesteps\n",
    "    '''\n",
    "    timestamps = []\n",
    "    for idx, scene in enumerate(sequence.scenes()):\n",
    "        radar_data = scene.radar_data\n",
    "        timestamps.append(radar_data[0][0]) \n",
    "    return timestamps\n",
    "        \n",
    "\n",
    "def get_current_scenes(sequence: Sequence, cur_idx, timestamps, n_prev_frames:int, n_next_frames: int): # what is timestamps?? \n",
    "    \"\"\"\n",
    "    Retrieves the scenes which should be displayed according to the current values of the time slider and the\n",
    "    spinboxes for the past and future frames.\n",
    "    Values of the spinboxes are retrieved and from the list of timestamps, the corresponding times are obtained.\n",
    "    :return: The current frame (type Scene) and a list of other frames (type Scene) which should be displayed.\n",
    "    \"\"\"\n",
    "    # cur_idx = timeline_slider.value()\n",
    "    cur_timestamp = timestamps[cur_idx]\n",
    "    current_scene = sequence.get_scene(cur_timestamp)\n",
    "    other_scenes = []\n",
    "    for i in range(1, n_prev_frames + 1):  # in the GUI, show previous frames/ show future frames!\n",
    "        if cur_idx - i < 0:\n",
    "            break\n",
    "        t = timestamps[cur_idx - i]\n",
    "        other_scenes.append(sequence.get_scene(t))\n",
    "    for i in range(1, n_next_frames + 1):\n",
    "        if cur_idx + i >= len(timestamps):\n",
    "            break\n",
    "        t = timestamps[cur_idx + i]\n",
    "        other_scenes.append(sequence.get_scene(t))\n",
    "    return current_scene, other_scenes\n",
    "\n",
    "\n",
    "def trafo_radar_data_world_to_car(scene, other_scenes) -> np.ndarray:\n",
    "    \"\"\"\n",
    "    Transforms the radar data listed in other_scenes into the same car coordinate system that is used in 'scene'.\n",
    "    :param scene: Scene. Containing radar data and odometry information of one scene. The odometry information from\n",
    "    this scene is used to transform the detections from the other timestamps into this scene.\n",
    "    :param other_scenes: List of Scene items. All detections in these other scenes are transformed\n",
    "    :return: A numpy array with all radar data from all scenes. The fields \"x_cc\" and \"y_cc\" are now relative to the\n",
    "    current scene.\n",
    "    \"\"\"\n",
    "    if len(other_scenes) == 0:\n",
    "        return scene.radar_data\n",
    "    other_radar_data = np.hstack([x.radar_data for x in other_scenes])\n",
    "    x_cc, y_cc = transform_detections_sequence_to_car(other_radar_data[\"x_seq\"], other_radar_data[\"y_seq\"],\n",
    "                                                        scene.odometry_data)\n",
    "    other_radar_data[\"x_cc\"] = x_cc\n",
    "    other_radar_data[\"y_cc\"] = y_cc\n",
    "    return np.hstack([scene.radar_data, other_radar_data])\n",
    "\n",
    "\n",
    "def get_frames(sequence: Sequence, cur_idx, timestamps, n_prev_frames=0 , n_next_frames=0):\n",
    "    \"\"\"\n",
    "    Plot the current frames.\n",
    "    :param: cur_idx: the frame number to be ploted\n",
    "    :return: None\n",
    "    \"\"\"\n",
    "    if len(timestamps) == 0 or cur_idx >= len(timestamps):\n",
    "        return\n",
    "    cur_timestamp = timestamps[cur_idx]\n",
    "    current_scene, other_scenes = get_current_scenes(sequence, cur_idx, timestamps, n_prev_frames, n_next_frames)   # 4 sensors together\n",
    "    radar_data = trafo_radar_data_world_to_car(current_scene, other_scenes) \n",
    "    return radar_data"
   ]
  },
  {
   "cell_type": "code",
   "execution_count": 3,
   "metadata": {},
   "outputs": [
    {
     "name": "stdout",
     "output_type": "stream",
     "text": [
      "Number of total sensor scans is 832822\n"
     ]
    }
   ],
   "source": [
    "# extract a frame, i.e., 4 continuous scenes from the start time, for DBSCAN\n",
    "path_to_dataset = \"/home/s0001516/thesis/dataset/RadarScenes/data\"\n",
    "# list all the folders\n",
    "list_sequences = os.listdir(path_to_dataset)\n",
    "nm_labeled_points = []\n",
    "nm_instances = []\n",
    "# iterate over all sequences\n",
    "for nm_sequence in list_sequences:\n",
    "    path_sequence = os.path.join(path_to_dataset, nm_sequence)\n",
    "    if os.path.isdir(path_sequence):\n",
    "        # Define the *.json file from which data should be loaded\n",
    "        filename = os.path.join(path_sequence, \"scenes.json\")\n",
    "        sequence = Sequence.from_json(filename)\n",
    "        timestamps = get_timestamps(sequence)\n",
    "        # iterate over all sensor scans\n",
    "        for cur_idx in range(len(timestamps)):\n",
    "            #m number of labeled points (not background)\n",
    "            radar_data = get_frames(sequence, cur_idx, timestamps)\n",
    "            labeled_idx = np.where(radar_data[\"label_id\"] != 11)[0] # not static # other class's distribution can also be counted\n",
    "            nm_labeled_points.append(len(labeled_idx))\n",
    "            # number of instances\n",
    "            track_ids = set(radar_data[\"track_id\"])\n",
    "            nm_instances.append(len(track_ids)-1)\n",
    "\n",
    "print('Number of total sensor scans is {}'.format(len(nm_labeled_points)))"
   ]
  },
  {
   "cell_type": "code",
   "execution_count": 5,
   "metadata": {},
   "outputs": [
    {
     "name": "stdout",
     "output_type": "stream",
     "text": [
      "Number of total sensor scans is 832822\n"
     ]
    }
   ],
   "source": [
    "print('Number of total sensor scans is {}'.format(len(nm_labeled_points)))\n",
    "#print(nm_labeled_points)\n",
    "#print(nm_instances)  # why no 0??"
   ]
  },
  {
   "cell_type": "markdown",
   "metadata": {},
   "source": [
    "# Task 1: replot the histogram as Fig 4b"
   ]
  },
  {
   "cell_type": "code",
   "execution_count": 12,
   "metadata": {},
   "outputs": [
    {
     "data": {
      "image/png": "[encoded data removed]",
      "text/plain": [
       "<Figure size 432x288 with 1 Axes>"
      ]
     },
     "metadata": {
      "needs_background": "light"
     },
     "output_type": "display_data"
    }
   ],
   "source": [
    "# plot histogram\n",
    "import matplotlib.pyplot as plt\n",
    "import numpy as np\n",
    "import matplotlib\n",
    "\"\"\"\n",
    "绘制直方图\n",
    "data:必选参数，绘图数据\n",
    "bins:直方图的长条形数目，可选项，默认为10\n",
    "normed:是否将得到的直方图向量归一化，可选项，默认为0，代表不归一化，显示频数。normed=1，表示归一化，显示频率。\n",
    "facecolor:长条形的颜色\n",
    "edgecolor:长条形边框的颜色\n",
    "alpha:透明度\n",
    "\"\"\"\n",
    "plt.hist(np.array(nm_labeled_points), bins=np.arange(1, 50, 5), facecolor=\"blue\", edgecolor=\"black\", alpha=0.7)\n",
    "# 显示横轴标签\n",
    "plt.xlabel(\"number of labeled points\")\n",
    "# 显示纵轴标签\n",
    "plt.ylabel(\"frequency\")\n",
    "# 显示图标题\n",
    "plt.title(\"labled points per scan\")\n",
    "plt.show()"
   ]
  },
  {
   "cell_type": "markdown",
   "metadata": {},
   "source": [
    "Looks quite close to 4 b)"
   ]
  },
  {
   "cell_type": "code",
   "execution_count": 18,
   "metadata": {},
   "outputs": [
    {
     "name": "stdout",
     "output_type": "stream",
     "text": [
      "183846\n",
      "123197\n",
      "70215\n",
      "44470\n"
     ]
    },
    {
     "data": {
      "text/plain": [
       "<BarContainer object of 16 artists>"
      ]
     },
     "execution_count": 18,
     "metadata": {},
     "output_type": "execute_result"
    },
    {
     "data": {
      "image/png": "[encoded data removed]",
      "text/plain": [
       "<Figure size 432x288 with 1 Axes>"
      ]
     },
     "metadata": {
      "needs_background": "light"
     },
     "output_type": "display_data"
    }
   ],
   "source": [
    "# plot histogram\n",
    "import matplotlib.pyplot as plt\n",
    "import numpy as np\n",
    "import matplotlib\n",
    "\"\"\"\n",
    "绘制直方图\n",
    "data:必选参数，绘图数据\n",
    "bins:直方图的长条形数目，可选项，默认为10\n",
    "normed:是否将得到的直方图向量归一化，可选项，默认为0，代表不归一化，显示频数。normed=1，表示归一化，显示频率。\n",
    "facecolor:长条形的颜色\n",
    "edgecolor:长条形边框的颜色\n",
    "alpha:透明度\n",
    "\"\"\"\n",
    "\n",
    "y1 = sum(np.array(nm_instances) == 1)\n",
    "y2 = sum(np.array(nm_instances) == 2)\n",
    "y3 = sum(np.array(nm_instances) == 3)\n",
    "y4 = sum(np.array(nm_instances) == 4)\n",
    "print(y1)\n",
    "print(y2)\n",
    "print(y3)\n",
    "print(y4)\n",
    "x = range(1, np.max(nm_instances))\n",
    "y = []\n",
    "for i in x:\n",
    "    y.append(sum(np.array(nm_instances) == i))\n",
    "plt.bar(x, y)\n",
    "# plt.hist(np.array(nm_instances), bins=np.arange(0, 15, 1), facecolor=\"blue\", edgecolor=\"black\", alpha=0.7)\n",
    "# plt.bar(range())\n",
    "# # 显示横轴标签\n",
    "# plt.xlabel(\"number of instances\")\n",
    "# # 显示纵轴标签\n",
    "# plt.ylabel(\"frequency\")\n",
    "# # 显示图标题\n",
    "# plt.title(\"instances per scan\")\n",
    "# plt.show()"
   ]
  },
  {
   "cell_type": "code",
   "execution_count": 19,
   "metadata": {},
   "outputs": [
    {
     "name": "stdout",
     "output_type": "stream",
     "text": [
      "492214\n"
     ]
    }
   ],
   "source": [
    "print(sum(y)) # totoal number of instances"
   ]
  },
  {
   "cell_type": "code",
   "execution_count": null,
   "metadata": {},
   "outputs": [],
   "source": [
    "# points per instance??"
   ]
  }
 ],
 "metadata": {
  "interpreter": {
   "hash": "9fa092c760aa3eec9c0e7ff8e9143a859ceac4faff0bc9eaa2c65d1d5899569c"
  },
  "kernelspec": {
   "display_name": "Python 3.9.5 64-bit ('radar_scenes': virtualenv)",
   "language": "python",
   "name": "python3"
  },
  "language_info": {
   "codemirror_mode": {
    "name": "ipython",
    "version": 3
   },
   "file_extension": ".py",
   "mimetype": "text/x-python",
   "name": "python",
   "nbconvert_exporter": "python",
   "pygments_lexer": "ipython3",
   "version": "3.8.10"
  },
  "orig_nbformat": 4
 },
 "nbformat": 4,
 "nbformat_minor": 2
}
