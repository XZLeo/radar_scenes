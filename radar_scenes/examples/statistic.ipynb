{
 "cells": [
  {
   "cell_type": "code",
   "execution_count": 1,
   "metadata": {},
   "outputs": [
    {
     "name": "stdout",
     "output_type": "stream",
     "text": [
      "hello world\n"
     ]
    }
   ],
   "source": [
    "print(\"hello world\")"
   ]
  },
  {
   "cell_type": "markdown",
   "metadata": {},
   "source": [
    "Analysis over all the sequence:\n",
    "1. class distribution\n",
    "2. How many scenes an object will appear in?"
   ]
  }
 ],
 "metadata": {
  "interpreter": {
   "hash": "9fa092c760aa3eec9c0e7ff8e9143a859ceac4faff0bc9eaa2c65d1d5899569c"
  },
  "kernelspec": {
   "display_name": "Python 3.9.5 64-bit ('radar_scenes': virtualenv)",
   "language": "python",
   "name": "python3"
  },
  "language_info": {
   "codemirror_mode": {
    "name": "ipython",
    "version": 3
   },
   "file_extension": ".py",
   "mimetype": "text/x-python",
   "name": "python",
   "nbconvert_exporter": "python",
   "pygments_lexer": "ipython3",
   "version": "3.9.5"
  },
  "orig_nbformat": 4
 },
 "nbformat": 4,
 "nbformat_minor": 2
}
